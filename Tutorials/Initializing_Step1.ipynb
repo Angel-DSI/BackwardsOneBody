{
 "cells": [
  {
   "cell_type": "markdown",
   "id": "75c0a6fd",
   "metadata": {},
   "source": [
    "Welcome to BOB! These super short tutorials will teach you how to use this package. This notebook will focus on initializing BOB"
   ]
  },
  {
   "cell_type": "markdown",
   "id": "9adfbdc1",
   "metadata": {},
   "source": [
    "Step 1. BOB_utils contains the BOB class that contains all the BOB related functions."
   ]
  },
  {
   "cell_type": "code",
   "execution_count": 4,
   "id": "93678963",
   "metadata": {},
   "outputs": [],
   "source": [
    "import BOB_utils"
   ]
  },
  {
   "cell_type": "markdown",
   "id": "29017f24",
   "metadata": {},
   "source": [
    "Step 2. We create our BOB object."
   ]
  },
  {
   "cell_type": "code",
   "execution_count": 5,
   "id": "da748c01",
   "metadata": {},
   "outputs": [
    {
     "name": "stdout",
     "output_type": "stream",
     "text": [
      "Destination path /home/anuj/.cache/qnm/data-0.4.0.tar.bz2 already exists, use overwrite=True to force an overwrite.\n"
     ]
    }
   ],
   "source": [
    "BOB = BOB_utils.BOB()"
   ]
  },
  {
   "cell_type": "markdown",
   "id": "323c9c05",
   "metadata": {},
   "source": [
    "Step 3. The first decision we need to make is what NR data we provide to BOB. BOB can handle SXS, CCE or a time and data array assumed to be psi4."
   ]
  },
  {
   "cell_type": "markdown",
   "id": "128726fc",
   "metadata": {},
   "source": [
    "Step 3A. If we want to use SXS data we simply need to pass in the SXS id. I will not go over how to use the sxs package here, but everything you need can be found [here](https://sxs.readthedocs.io/en/stable/)"
   ]
  },
  {
   "cell_type": "code",
   "execution_count": 6,
   "id": "87de60cd",
   "metadata": {},
   "outputs": [
    {
     "name": "stdout",
     "output_type": "stream",
     "text": [
      "loading SXS data\n"
     ]
    }
   ],
   "source": [
    "BOB.initialize_with_sxs_data(\"SXS:BBH:2325\")"
   ]
  },
  {
   "cell_type": "markdown",
   "id": "0025b953",
   "metadata": {},
   "source": [
    "By default, the s=-2,l=2,m=2 mode will be built. But we can build BOB for other (l,m) modes by passing it in here"
   ]
  },
  {
   "cell_type": "code",
   "execution_count": 7,
   "id": "6e5fa597",
   "metadata": {},
   "outputs": [],
   "source": [
    "#BOB.initialize_with_sxs_data(\"SXS:BBH:2325\",l=4,m=4)"
   ]
  },
  {
   "cell_type": "markdown",
   "id": "b2365b24",
   "metadata": {},
   "source": [
    "Step 3B. Alternatively, we can use CCE data. On windows this will require usage of WSL. CCE data can be loaded by just specifying the number of the simulation. We can also transform the data to the superrest frame. This may take ~20 minutes the first time you do it for each CCE simulation."
   ]
  },
  {
   "cell_type": "code",
   "execution_count": 8,
   "id": "1af30652",
   "metadata": {},
   "outputs": [],
   "source": [
    "#BOB_utils.initialize_with_cce(1,perform_superrest_transformation=True)"
   ]
  },
  {
   "cell_type": "markdown",
   "id": "bae8754f",
   "metadata": {},
   "source": [
    "Step 3C. If you have your own psi4 data, you can pass it in manually. Here you will also have to specify the final mass and dimensionless spin. It is important to specify what (l,m) mode the data represents, otherwise it will be assumed to be the (2,2) mode"
   ]
  },
  {
   "cell_type": "code",
   "execution_count": 10,
   "id": "cd55a19c",
   "metadata": {},
   "outputs": [],
   "source": [
    "import numpy as np\n",
    "mf = 1.0\n",
    "chif = 0.0\n",
    "t = np.linspace(-100,100,201) #mock data\n",
    "y = np.zeros_like(t) #mock data\n",
    "#BOB_utils.initialize_with_NR_psi4_data(t,y,mf,chif,l=2,m=2)"
   ]
  },
  {
   "cell_type": "markdown",
   "id": "0386bb59",
   "metadata": {},
   "source": [
    "It is important that you only initialize using one of the methods above. If you initialize with SXS or CCE data, psi4, news and strain will automatically be downloaded. If you initialize with your own data, then some versions of BOB may not be available due to only psi4 NR data being available."
   ]
  },
  {
   "cell_type": "markdown",
   "id": "60152940",
   "metadata": {},
   "source": [
    "You have now initialized BOB! Proceed to the next notebook to learn how to create waveforms"
   ]
  }
 ],
 "metadata": {
  "kernelspec": {
   "display_name": "BOB_QNM_env",
   "language": "python",
   "name": "python3"
  },
  "language_info": {
   "codemirror_mode": {
    "name": "ipython",
    "version": 3
   },
   "file_extension": ".py",
   "mimetype": "text/x-python",
   "name": "python",
   "nbconvert_exporter": "python",
   "pygments_lexer": "ipython3",
   "version": "3.12.3"
  }
 },
 "nbformat": 4,
 "nbformat_minor": 5
}
